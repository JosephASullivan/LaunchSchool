{
 "cells": [
  {
   "attachments": {},
   "cell_type": "markdown",
   "metadata": {},
   "source": [
    "# Loops 1"
   ]
  },
  {
   "attachments": {},
   "cell_type": "markdown",
   "metadata": {},
   "source": [
    "## Control the Loop"
   ]
  },
  {
   "cell_type": "code",
   "execution_count": null,
   "metadata": {},
   "outputs": [],
   "source": [
    "iterations = 1\n",
    "\n",
    "loop do\n",
    "  puts \"Number of iterations = #{iterations}\"\n",
    "  iterations += 1\n",
    "  break if iterations > 5\n",
    "end"
   ]
  },
  {
   "attachments": {},
   "cell_type": "markdown",
   "metadata": {},
   "source": [
    "### Further Exploration\n",
    "\n",
    "If the break statement is moved up one line so it runs before iterations is incremented, what would need to be changed?"
   ]
  },
  {
   "cell_type": "code",
   "execution_count": 2,
   "metadata": {},
   "outputs": [
    {
     "name": "stdout",
     "output_type": "stream",
     "text": [
      "Number of iterations = 1\n",
      "Number of iterations = 2\n",
      "Number of iterations = 3\n",
      "Number of iterations = 4\n",
      "Number of iterations = 5\n"
     ]
    }
   ],
   "source": [
    "iterations = 1\n",
    "\n",
    "loop do\n",
    "    puts \"Number of iterations = #{iterations}\"\n",
    "    if iterations >= 5\n",
    "        break\n",
    "    end\n",
    "    iterations += 1\n",
    "end"
   ]
  },
  {
   "attachments": {},
   "cell_type": "markdown",
   "metadata": {},
   "source": [
    "## Loop on Command"
   ]
  },
  {
   "cell_type": "code",
   "execution_count": null,
   "metadata": {},
   "outputs": [],
   "source": [
    "loop do\n",
    "  puts 'Should I stop looping?'\n",
    "  #answer = gets.chomp # Doesn't work in Jupyter\n",
    "  break if answer == 'yes'\n",
    "  puts 'answer \"yes\" to break'\n",
    "end"
   ]
  },
  {
   "attachments": {},
   "cell_type": "markdown",
   "metadata": {},
   "source": [
    "## Say Hello"
   ]
  },
  {
   "cell_type": "code",
   "execution_count": null,
   "metadata": {},
   "outputs": [],
   "source": [
    "say_hello = true\n",
    "count = 0\n",
    "\n",
    "while say_hello\n",
    "  puts 'Hello!'\n",
    "  count += 1\n",
    "  say_hello = false if count >= 5\n",
    "end"
   ]
  },
  {
   "attachments": {},
   "cell_type": "markdown",
   "metadata": {},
   "source": [
    "## Print While"
   ]
  },
  {
   "cell_type": "code",
   "execution_count": 19,
   "metadata": {},
   "outputs": [
    {
     "name": "stdout",
     "output_type": "stream",
     "text": [
      "15\n",
      "89\n",
      "15\n",
      "38\n",
      "94\n"
     ]
    }
   ],
   "source": [
    "numbers = []\n",
    "\n",
    "while numbers.length < 5\n",
    "  numbers.append(rand(100))\n",
    "  # OR: numbers << rand(100)\n",
    "end\n",
    "\n",
    "puts numbers"
   ]
  },
  {
   "attachments": {},
   "cell_type": "markdown",
   "metadata": {},
   "source": [
    "## Count Up"
   ]
  },
  {
   "cell_type": "code",
   "execution_count": null,
   "metadata": {},
   "outputs": [],
   "source": [
    "count = 1\n",
    "\n",
    "until count == 11\n",
    "  puts count\n",
    "  count += 1\n",
    "end"
   ]
  },
  {
   "attachments": {},
   "cell_type": "markdown",
   "metadata": {},
   "source": [
    "## Print Until"
   ]
  },
  {
   "cell_type": "code",
   "execution_count": null,
   "metadata": {},
   "outputs": [],
   "source": [
    "numbers = [7, 9, 13, 25, 18]\n",
    "i = 0\n",
    "\n",
    "until i > numbers.length\n",
    "  puts numbers[i]\n",
    "  i += 1\n",
    "end"
   ]
  },
  {
   "attachments": {},
   "cell_type": "markdown",
   "metadata": {},
   "source": [
    "## That's Odd"
   ]
  },
  {
   "cell_type": "code",
   "execution_count": null,
   "metadata": {},
   "outputs": [],
   "source": [
    "for i in 1..100\n",
    "  puts i if i.odd?\n",
    "end"
   ]
  },
  {
   "attachments": {},
   "cell_type": "markdown",
   "metadata": {},
   "source": [
    "## Greet Your Friends"
   ]
  },
  {
   "cell_type": "code",
   "execution_count": null,
   "metadata": {},
   "outputs": [],
   "source": [
    "friends = ['Sarah', 'John', 'Hannah', 'Dave']\n",
    "\n",
    "for person in friends\n",
    "  puts \"Hello, #{person}!\"\n",
    "end"
   ]
  },
  {
   "attachments": {},
   "cell_type": "markdown",
   "metadata": {},
   "source": [
    "# Loops 2"
   ]
  },
  {
   "attachments": {},
   "cell_type": "markdown",
   "metadata": {},
   "source": [
    "## Even Or Odd?"
   ]
  },
  {
   "cell_type": "code",
   "execution_count": null,
   "metadata": {},
   "outputs": [],
   "source": [
    "count = 1\n",
    "\n",
    "loop do\n",
    "  puts \"#{count} is #{count.odd? ? \"odd\" : \"even\"}!\"\n",
    "  count += 1\n",
    "  break if count > 5\n",
    "end"
   ]
  },
  {
   "attachments": {},
   "cell_type": "markdown",
   "metadata": {},
   "source": [
    "## Catch the Number"
   ]
  },
  {
   "cell_type": "code",
   "execution_count": null,
   "metadata": {},
   "outputs": [],
   "source": [
    "loop do\n",
    "  number = rand(100)\n",
    "  puts number\n",
    "  break if number.between?(0,10)\n",
    "end"
   ]
  },
  {
   "attachments": {},
   "cell_type": "markdown",
   "metadata": {},
   "source": [
    "## Conditional Loop"
   ]
  },
  {
   "cell_type": "code",
   "execution_count": null,
   "metadata": {},
   "outputs": [],
   "source": [
    "process_the_loop = [true, false].sample\n",
    "\n",
    "if process_the_loop\n",
    "  loop do\n",
    "    puts \"The loop was processed!\"\n",
    "    break\n",
    "  end\n",
    "else\n",
    "  puts \"The loop wasn't processed!\"\n",
    "end"
   ]
  },
  {
   "attachments": {},
   "cell_type": "markdown",
   "metadata": {},
   "source": [
    "## Get the Sum"
   ]
  },
  {
   "cell_type": "code",
   "execution_count": null,
   "metadata": {},
   "outputs": [],
   "source": [
    "loop do\n",
    "  puts 'What does 2 + 2 equal?'\n",
    "  answer = gets.chomp.to_i # Doesn't work with Jupyter\n",
    "  if answer == 4\n",
    "    puts \"That's correct!\"\n",
    "    break\n",
    "  end\n",
    "  puts \"Wrong answer. Try again!\"\n",
    "end"
   ]
  },
  {
   "attachments": {},
   "cell_type": "markdown",
   "metadata": {},
   "source": [
    "## Insert Numbers"
   ]
  },
  {
   "cell_type": "code",
   "execution_count": null,
   "metadata": {},
   "outputs": [],
   "source": [
    "numbers = []\n",
    "\n",
    "loop do\n",
    "  puts 'Enter any number:'\n",
    "  input = gets.chomp.to_i # Won't work in Jupyter\n",
    "  numbers << input\n",
    "  break if numbers.length >= 5\n",
    "end\n",
    "puts numbers"
   ]
  },
  {
   "attachments": {},
   "cell_type": "markdown",
   "metadata": {},
   "source": [
    "## Empty the Array"
   ]
  },
  {
   "cell_type": "code",
   "execution_count": null,
   "metadata": {},
   "outputs": [],
   "source": [
    "names = ['Sally', 'Joe', 'Lisa', 'Henry']\n",
    "\n",
    "loop do\n",
    "  puts names.shift\n",
    "  break if names.length == 0\n",
    "end\n",
    "\n"
   ]
  },
  {
   "attachments": {},
   "cell_type": "markdown",
   "metadata": {},
   "source": [
    "## Stop Counting"
   ]
  },
  {
   "cell_type": "code",
   "execution_count": null,
   "metadata": {},
   "outputs": [],
   "source": [
    "5.times do |index|\n",
    "  puts index\n",
    "  break if index == 2\n",
    "end"
   ]
  },
  {
   "cell_type": "code",
   "execution_count": 38,
   "metadata": {},
   "outputs": [
    {
     "name": "stdout",
     "output_type": "stream",
     "text": [
      "0\n",
      "1\n",
      "2\n",
      "3\n",
      "4\n"
     ]
    }
   ],
   "source": [
    "5.times do |index|\n",
    "  puts index\n",
    "  break if index == 4\n",
    "end"
   ]
  },
  {
   "cell_type": "code",
   "execution_count": 39,
   "metadata": {},
   "outputs": [
    {
     "name": "stdout",
     "output_type": "stream",
     "text": [
      "0\n"
     ]
    }
   ],
   "source": [
    "5.times do |index|\n",
    "  puts index\n",
    "  break if index < 7\n",
    "end"
   ]
  },
  {
   "attachments": {},
   "cell_type": "markdown",
   "metadata": {},
   "source": [
    "## Only Even"
   ]
  },
  {
   "cell_type": "code",
   "execution_count": 40,
   "metadata": {},
   "outputs": [
    {
     "name": "stdout",
     "output_type": "stream",
     "text": [
      "2\n",
      "4\n",
      "6\n",
      "8\n",
      "10\n"
     ]
    }
   ],
   "source": [
    "number = 0\n",
    "\n",
    "until number == 10\n",
    "  number += 1\n",
    "  next if number.odd?\n",
    "  puts number\n",
    "end"
   ]
  },
  {
   "attachments": {},
   "cell_type": "markdown",
   "metadata": {},
   "source": [
    "## First to Five"
   ]
  },
  {
   "cell_type": "code",
   "execution_count": 46,
   "metadata": {},
   "outputs": [
    {
     "name": "stdout",
     "output_type": "stream",
     "text": [
      "5 was reached!\n",
      "number_a equals 5\n",
      "number_b equals 4\n"
     ]
    }
   ],
   "source": [
    "number_a = 0\n",
    "number_b = 0\n",
    "\n",
    "loop do\n",
    "  number_a += rand(2)\n",
    "  number_b += rand(2)\n",
    "  if number_a == 5 || number_b == 5\n",
    "    puts \"5 was reached!\"\n",
    "    break\n",
    "  end\n",
    "end\n",
    "\n",
    "puts \"number_a equals #{number_a}\"\n",
    "puts \"number_b equals #{number_b}\""
   ]
  },
  {
   "attachments": {},
   "cell_type": "markdown",
   "metadata": {},
   "source": [
    "## Greeting"
   ]
  },
  {
   "cell_type": "code",
   "execution_count": 47,
   "metadata": {},
   "outputs": [
    {
     "name": "stdout",
     "output_type": "stream",
     "text": [
      "Hello!\n",
      "Hello!\n"
     ]
    }
   ],
   "source": [
    "def greeting\n",
    "  puts 'Hello!'\n",
    "end\n",
    "\n",
    "number_of_greetings = 2\n",
    "count = 0\n",
    "\n",
    "while count < number_of_greetings\n",
    "  greeting\n",
    "  count += 1\n",
    "end"
   ]
  },
  {
   "attachments": {},
   "cell_type": "markdown",
   "metadata": {},
   "source": [
    "# User Input"
   ]
  },
  {
   "attachments": {},
   "cell_type": "markdown",
   "metadata": {},
   "source": [
    "(see Ruby scripts)"
   ]
  },
  {
   "attachments": {},
   "cell_type": "markdown",
   "metadata": {},
   "source": [
    "# Methods"
   ]
  },
  {
   "attachments": {},
   "cell_type": "markdown",
   "metadata": {},
   "source": [
    "## Print Me 1"
   ]
  },
  {
   "cell_type": "code",
   "execution_count": 1,
   "metadata": {},
   "outputs": [
    {
     "name": "stdout",
     "output_type": "stream",
     "text": [
      "I'm printing within the method!\n"
     ]
    }
   ],
   "source": [
    "def print_me\n",
    "  puts \"I'm printing within the method!\"\n",
    "end\n",
    "\n",
    "print_me"
   ]
  },
  {
   "attachments": {},
   "cell_type": "markdown",
   "metadata": {},
   "source": [
    "## Print Me 2"
   ]
  },
  {
   "cell_type": "code",
   "execution_count": 4,
   "metadata": {},
   "outputs": [
    {
     "name": "stdout",
     "output_type": "stream",
     "text": [
      "I'm printing the return value!\n"
     ]
    }
   ],
   "source": [
    "def print_me\n",
    "  \"I'm printing the return value!\"\n",
    "end\n",
    "\n",
    "puts print_me"
   ]
  },
  {
   "attachments": {},
   "cell_type": "markdown",
   "metadata": {},
   "source": [
    "## Greeting Through Methods 1"
   ]
  },
  {
   "cell_type": "code",
   "execution_count": 6,
   "metadata": {},
   "outputs": [
    {
     "name": "stdout",
     "output_type": "stream",
     "text": [
      "Hello World\n"
     ]
    }
   ],
   "source": [
    "def hello\n",
    "  \"Hello\"\n",
    "end\n",
    "\n",
    "def world\n",
    "  \"World\"\n",
    "end\n",
    "\n",
    "puts \"#{hello} #{world}\""
   ]
  },
  {
   "attachments": {},
   "cell_type": "markdown",
   "metadata": {},
   "source": [
    "## Greeting Through Methods 2"
   ]
  },
  {
   "cell_type": "code",
   "execution_count": 7,
   "metadata": {},
   "outputs": [
    {
     "name": "stdout",
     "output_type": "stream",
     "text": [
      "Hello World\n"
     ]
    }
   ],
   "source": [
    "def hello\n",
    "  'Hello'\n",
    "end\n",
    "\n",
    "def world\n",
    "  'World'\n",
    "end\n",
    "\n",
    "def greet\n",
    "  hello + \" \" + world\n",
    "end\n",
    "\n",
    "puts greet"
   ]
  },
  {
   "attachments": {},
   "cell_type": "markdown",
   "metadata": {},
   "source": [
    "## Make and Model"
   ]
  },
  {
   "cell_type": "code",
   "execution_count": 8,
   "metadata": {},
   "outputs": [
    {
     "data": {
      "text/plain": [
       "\"Toyota Corolla\""
      ]
     },
     "execution_count": 8,
     "metadata": {},
     "output_type": "execute_result"
    }
   ],
   "source": [
    "def car(make, model)\n",
    "  \"#{make} #{model}\"\n",
    "end\n",
    "\n",
    "car('Toyota', 'Corolla')"
   ]
  },
  {
   "attachments": {},
   "cell_type": "markdown",
   "metadata": {},
   "source": [
    "## Day or Night?"
   ]
  },
  {
   "cell_type": "code",
   "execution_count": 12,
   "metadata": {},
   "outputs": [
    {
     "name": "stdout",
     "output_type": "stream",
     "text": [
      "It's daytime!\n"
     ]
    }
   ],
   "source": [
    "daylight = [true, false].sample\n",
    "\n",
    "def time_of_day(daylight)\n",
    "  output = daylight ? \"It's daytime!\" : \"It's nighttime!\"\n",
    "  puts output\n",
    "end\n",
    "\n",
    "time_of_day(daylight)"
   ]
  },
  {
   "attachments": {},
   "cell_type": "markdown",
   "metadata": {},
   "source": [
    "## Naming Animals"
   ]
  },
  {
   "cell_type": "code",
   "execution_count": 15,
   "metadata": {},
   "outputs": [
    {
     "name": "stdout",
     "output_type": "stream",
     "text": [
      "The dog's name is Spot.\n",
      "The cat's name is Kisa.\n"
     ]
    }
   ],
   "source": [
    "def dog(name)\n",
    "  return name\n",
    "end\n",
    "\n",
    "def cat(name)\n",
    "  return name\n",
    "end\n",
    "\n",
    "puts \"The dog's name is #{dog('Spot')}.\"\n",
    "puts \"The cat's name is #{cat('Kisa')}.\""
   ]
  },
  {
   "attachments": {},
   "cell_type": "markdown",
   "metadata": {},
   "source": [
    "## Name Not Found"
   ]
  },
  {
   "cell_type": "code",
   "execution_count": 16,
   "metadata": {},
   "outputs": [
    {
     "name": "stdout",
     "output_type": "stream",
     "text": [
      "true\n",
      "true\n"
     ]
    }
   ],
   "source": [
    "def assign_name(name = 'Bob')\n",
    "  name\n",
    "end\n",
    "\n",
    "puts assign_name('Kevin') == 'Kevin'\n",
    "puts assign_name == 'Bob'"
   ]
  },
  {
   "attachments": {},
   "cell_type": "markdown",
   "metadata": {},
   "source": [
    "## Multiply the Sum"
   ]
  },
  {
   "cell_type": "code",
   "execution_count": 19,
   "metadata": {},
   "outputs": [
    {
     "name": "stdout",
     "output_type": "stream",
     "text": [
      "true\n",
      "true\n",
      "true\n"
     ]
    }
   ],
   "source": [
    "def add(x, y)\n",
    "  x + y\n",
    "end\n",
    "\n",
    "def multiply(x, y)\n",
    "  x * y\n",
    "end\n",
    "\n",
    "puts add(2, 2) == 4\n",
    "puts add(5, 4) == 9\n",
    "puts multiply(add(2, 2), add(5, 4)) == 36"
   ]
  },
  {
   "attachments": {},
   "cell_type": "markdown",
   "metadata": {},
   "source": [
    "## Random Sentence"
   ]
  },
  {
   "cell_type": "code",
   "execution_count": 29,
   "metadata": {},
   "outputs": [
    {
     "name": "stdout",
     "output_type": "stream",
     "text": [
      "Jessica is walking.\n"
     ]
    }
   ],
   "source": [
    "names = ['Dave', 'Sally', 'George', 'Jessica']\n",
    "activities = ['walking', 'running', 'cycling']\n",
    "\n",
    "def name(array)\n",
    "  array.sample\n",
    "end\n",
    "\n",
    "def activity(array)\n",
    "  array.sample\n",
    "end\n",
    "\n",
    "def sentence(name, act)\n",
    "  \"#{name} is #{act}.\"\n",
    "end\n",
    "\n",
    "puts sentence(name(names), activity(activities))"
   ]
  },
  {
   "attachments": {},
   "cell_type": "markdown",
   "metadata": {},
   "source": [
    "# Return"
   ]
  },
  {
   "attachments": {},
   "cell_type": "markdown",
   "metadata": {},
   "source": [
    "## Breakfast Lunch Dinner 1"
   ]
  },
  {
   "cell_type": "code",
   "execution_count": null,
   "metadata": {},
   "outputs": [],
   "source": [
    "def meal\n",
    "  return 'Breakfast'\n",
    "end\n",
    "\n",
    "puts meal"
   ]
  },
  {
   "attachments": {},
   "cell_type": "markdown",
   "metadata": {},
   "source": [
    "## Breakfast Lunch Dinner 2"
   ]
  },
  {
   "cell_type": "code",
   "execution_count": null,
   "metadata": {},
   "outputs": [],
   "source": [
    "def meal\n",
    "  'Evening'\n",
    "end\n",
    "\n",
    "puts meal"
   ]
  },
  {
   "attachments": {},
   "cell_type": "markdown",
   "metadata": {},
   "source": [
    "## Breakfast Lunch Dinner 3"
   ]
  },
  {
   "cell_type": "code",
   "execution_count": null,
   "metadata": {},
   "outputs": [],
   "source": [
    "def meal\n",
    "  return 'Breakfast'\n",
    "  'Dinner'\n",
    "end\n",
    "\n",
    "puts meal"
   ]
  },
  {
   "attachments": {},
   "cell_type": "markdown",
   "metadata": {},
   "source": [
    "## Breakfast Lunch Dinner 4"
   ]
  },
  {
   "cell_type": "code",
   "execution_count": 30,
   "metadata": {},
   "outputs": [
    {
     "name": "stdout",
     "output_type": "stream",
     "text": [
      "Dinner\n",
      "Breakfast\n"
     ]
    }
   ],
   "source": [
    "def meal\n",
    "  puts 'Dinner'\n",
    "  return 'Breakfast'\n",
    "end\n",
    "\n",
    "puts meal"
   ]
  },
  {
   "attachments": {},
   "cell_type": "markdown",
   "metadata": {},
   "source": [
    "## Breakfast Lunch Dinner 5"
   ]
  },
  {
   "cell_type": "code",
   "execution_count": 31,
   "metadata": {},
   "outputs": [
    {
     "name": "stdout",
     "output_type": "stream",
     "text": [
      "Dinner\n",
      "nil\n"
     ]
    }
   ],
   "source": [
    "def meal\n",
    "  'Dinner'\n",
    "  puts 'Dinner'\n",
    "end\n",
    "\n",
    "p meal"
   ]
  },
  {
   "attachments": {},
   "cell_type": "markdown",
   "metadata": {},
   "source": [
    "## Breakfast Lunch Dinner 6"
   ]
  },
  {
   "cell_type": "code",
   "execution_count": null,
   "metadata": {},
   "outputs": [],
   "source": [
    "def meal\n",
    "  return 'Breakfast'\n",
    "  'Dinner'\n",
    "  puts 'Dinner'\n",
    "end\n",
    "\n",
    "puts meal"
   ]
  },
  {
   "attachments": {},
   "cell_type": "markdown",
   "metadata": {},
   "source": [
    "## Counting Sheep 1"
   ]
  },
  {
   "cell_type": "code",
   "execution_count": 32,
   "metadata": {},
   "outputs": [
    {
     "name": "stdout",
     "output_type": "stream",
     "text": [
      "0\n",
      "1\n",
      "2\n",
      "3\n",
      "4\n",
      "5\n"
     ]
    }
   ],
   "source": [
    "def count_sheep\n",
    "  5.times do |sheep|\n",
    "    puts sheep\n",
    "  end\n",
    "end\n",
    "\n",
    "puts count_sheep"
   ]
  },
  {
   "attachments": {},
   "cell_type": "markdown",
   "metadata": {},
   "source": [
    "## Counting Sheep 2"
   ]
  },
  {
   "cell_type": "code",
   "execution_count": 33,
   "metadata": {},
   "outputs": [
    {
     "name": "stdout",
     "output_type": "stream",
     "text": [
      "0\n",
      "1\n",
      "2\n",
      "3\n",
      "4\n",
      "10\n"
     ]
    }
   ],
   "source": [
    "def count_sheep\n",
    "  5.times do |sheep|\n",
    "    puts sheep\n",
    "  end\n",
    "  10\n",
    "end\n",
    "\n",
    "puts count_sheep"
   ]
  },
  {
   "attachments": {},
   "cell_type": "markdown",
   "metadata": {},
   "source": [
    "## Counting Sheep 3"
   ]
  },
  {
   "cell_type": "code",
   "execution_count": 34,
   "metadata": {},
   "outputs": [
    {
     "name": "stdout",
     "output_type": "stream",
     "text": [
      "0\n",
      "1\n",
      "2\n",
      "nil\n"
     ]
    }
   ],
   "source": [
    "def count_sheep\n",
    "  5.times do |sheep|\n",
    "    puts sheep\n",
    "    if sheep >= 2\n",
    "      return\n",
    "    end\n",
    "  end\n",
    "end\n",
    "\n",
    "p count_sheep"
   ]
  },
  {
   "attachments": {},
   "cell_type": "markdown",
   "metadata": {},
   "source": [
    "## Tricky Number"
   ]
  },
  {
   "cell_type": "code",
   "execution_count": null,
   "metadata": {},
   "outputs": [],
   "source": [
    "def tricky_number\n",
    "  if true\n",
    "    number = 1\n",
    "  else\n",
    "    2\n",
    "  end\n",
    "end\n",
    "\n",
    "puts tricky_number"
   ]
  },
  {
   "attachments": {},
   "cell_type": "markdown",
   "metadata": {},
   "source": [
    "# Conditionals"
   ]
  },
  {
   "attachments": {},
   "cell_type": "markdown",
   "metadata": {},
   "source": [
    "## Unpredictable Weather 1"
   ]
  },
  {
   "cell_type": "code",
   "execution_count": 41,
   "metadata": {},
   "outputs": [],
   "source": [
    "sun = ['visible', 'hidden'].sample\n",
    "\n",
    "if sun == \"visible\"\n",
    "  puts \"The sun is so bright!\"\n",
    "end"
   ]
  },
  {
   "attachments": {},
   "cell_type": "markdown",
   "metadata": {},
   "source": [
    "## Unpredictable Weather 2"
   ]
  },
  {
   "cell_type": "code",
   "execution_count": 51,
   "metadata": {},
   "outputs": [
    {
     "name": "stdout",
     "output_type": "stream",
     "text": [
      "The clouds are blocking the sun!\n"
     ]
    }
   ],
   "source": [
    "sun = ['visible', 'hidden'].sample\n",
    "\n",
    "unless sun == \"visible\"\n",
    "  puts \"The clouds are blocking the sun!\"\n",
    "end"
   ]
  },
  {
   "attachments": {},
   "cell_type": "markdown",
   "metadata": {},
   "source": [
    "## Unpredictable Weather 3"
   ]
  },
  {
   "cell_type": "code",
   "execution_count": 67,
   "metadata": {},
   "outputs": [
    {
     "name": "stdout",
     "output_type": "stream",
     "text": [
      "The clouds are blocking the sun!\n"
     ]
    }
   ],
   "source": [
    "sun = ['visible', 'hidden'].sample\n",
    "\n",
    "puts 'The sun is so bright!' if sun == 'visible'\n",
    "puts 'The clouds are blocking the sun!' unless sun == 'visible'"
   ]
  },
  {
   "attachments": {},
   "cell_type": "markdown",
   "metadata": {},
   "source": [
    "## True/False"
   ]
  },
  {
   "cell_type": "code",
   "execution_count": 83,
   "metadata": {},
   "outputs": [
    {
     "name": "stdout",
     "output_type": "stream",
     "text": [
      "I'm true\n",
      "I'm true\n"
     ]
    }
   ],
   "source": [
    "boolean = [true, false].sample\n",
    "\n",
    "puts boolean ? \"I'm true\" : \"I'm false\""
   ]
  },
  {
   "attachments": {},
   "cell_type": "markdown",
   "metadata": {},
   "source": [
    "## Truthy Number"
   ]
  },
  {
   "cell_type": "code",
   "execution_count": null,
   "metadata": {},
   "outputs": [],
   "source": [
    "number = 7\n",
    "\n",
    "if number\n",
    "  puts \"My favorite number is #{number}.\"\n",
    "else\n",
    "  puts \"I don't have a favorite number.\"\n",
    "end"
   ]
  },
  {
   "attachments": {},
   "cell_type": "markdown",
   "metadata": {},
   "source": [
    "## Stoplight 1"
   ]
  },
  {
   "cell_type": "code",
   "execution_count": 85,
   "metadata": {},
   "outputs": [
    {
     "name": "stdout",
     "output_type": "stream",
     "text": [
      "Stop!\n"
     ]
    }
   ],
   "source": [
    "stoplight = ['green', 'yellow', 'red'].sample\n",
    "\n",
    "case stoplight\n",
    "when 'green'\n",
    "  puts 'Go!'\n",
    "when 'yellow'\n",
    "  puts 'Slow down!'\n",
    "else\n",
    "  puts 'Stop!'\n",
    "end"
   ]
  },
  {
   "attachments": {},
   "cell_type": "markdown",
   "metadata": {},
   "source": [
    "## Stoplight 2"
   ]
  },
  {
   "cell_type": "code",
   "execution_count": 109,
   "metadata": {},
   "outputs": [
    {
     "name": "stdout",
     "output_type": "stream",
     "text": [
      "Go!\n"
     ]
    }
   ],
   "source": [
    "stoplight = ['green', 'yellow', 'red'].sample\n",
    "\n",
    "if stoplight == 'green'\n",
    "  puts 'Go!'\n",
    "elsif stoplight == 'yellow'\n",
    "  puts 'Slow down!'\n",
    "else\n",
    "  puts 'Stop!'\n",
    "end"
   ]
  },
  {
   "attachments": {},
   "cell_type": "markdown",
   "metadata": {},
   "source": [
    "## Sleep Alert"
   ]
  },
  {
   "cell_type": "code",
   "execution_count": 114,
   "metadata": {},
   "outputs": [
    {
     "name": "stdout",
     "output_type": "stream",
     "text": [
      "Go to sleep!\n"
     ]
    }
   ],
   "source": [
    "status = ['awake', 'tired'].sample\n",
    "\n",
    "alert = if status == 'awake'\n",
    "  'Be productive!'\n",
    "else\n",
    "  'Go to sleep!'\n",
    "end\n",
    "\n",
    "puts alert"
   ]
  },
  {
   "attachments": {},
   "cell_type": "markdown",
   "metadata": {},
   "source": [
    "## Cool Numbers"
   ]
  },
  {
   "cell_type": "code",
   "execution_count": null,
   "metadata": {},
   "outputs": [],
   "source": [
    "number = rand(10)\n",
    "\n",
    "if number == 5\n",
    "  puts '5 is a cool number!'\n",
    "else\n",
    "  puts 'Other numbers are cool too!'\n",
    "end"
   ]
  },
  {
   "attachments": {},
   "cell_type": "markdown",
   "metadata": {},
   "source": [
    "## Stoplight 3"
   ]
  },
  {
   "cell_type": "code",
   "execution_count": 127,
   "metadata": {},
   "outputs": [
    {
     "name": "stdout",
     "output_type": "stream",
     "text": [
      "Stop!\n"
     ]
    }
   ],
   "source": [
    "stoplight = ['green', 'yellow', 'red'].sample\n",
    "\n",
    "case stoplight\n",
    "when 'green' then puts 'Go!'\n",
    "when 'yellow' then puts 'Slow down!'\n",
    "else puts 'Stop!'\n",
    "end"
   ]
  },
  {
   "attachments": {},
   "cell_type": "markdown",
   "metadata": {},
   "source": [
    "# Strings"
   ]
  },
  {
   "attachments": {},
   "cell_type": "markdown",
   "metadata": {},
   "source": [
    "## Create a String"
   ]
  },
  {
   "cell_type": "code",
   "execution_count": 128,
   "metadata": {},
   "outputs": [
    {
     "data": {
      "text/plain": [
       "true"
      ]
     },
     "execution_count": 128,
     "metadata": {},
     "output_type": "execute_result"
    }
   ],
   "source": [
    "a = ''\n",
    "b = String.new\n",
    "a == b\n"
   ]
  },
  {
   "attachments": {},
   "cell_type": "markdown",
   "metadata": {},
   "source": [
    "## Quote Confusion"
   ]
  },
  {
   "cell_type": "code",
   "execution_count": 137,
   "metadata": {},
   "outputs": [
    {
     "name": "stdout",
     "output_type": "stream",
     "text": [
      "It's now 12 o'clock.\n",
      "It's now 12 o'clock.\n",
      "It's now 12 o'clock.\n"
     ]
    }
   ],
   "source": [
    "puts 'It\\'s now 12 o\\'clock.'\n",
    "puts \"It\\'s now 12 o\\'clock.\"\n",
    "puts \"It's now 12 o'clock.\""
   ]
  },
  {
   "attachments": {},
   "cell_type": "markdown",
   "metadata": {},
   "source": [
    "## Ignoring Case"
   ]
  },
  {
   "cell_type": "code",
   "execution_count": 141,
   "metadata": {},
   "outputs": [
    {
     "name": "stdout",
     "output_type": "stream",
     "text": [
      "true\n",
      "false\n"
     ]
    }
   ],
   "source": [
    "name = 'Roger'\n",
    "\n",
    "puts name.casecmp('RoGeR') == 0\n",
    "puts name.casecmp('DAVE') == 0"
   ]
  },
  {
   "attachments": {},
   "cell_type": "markdown",
   "metadata": {},
   "source": [
    "## Dynamic String"
   ]
  },
  {
   "cell_type": "code",
   "execution_count": 142,
   "metadata": {},
   "outputs": [
    {
     "name": "stdout",
     "output_type": "stream",
     "text": [
      "Hello, Elizabeth!\n"
     ]
    }
   ],
   "source": [
    "name = 'Elizabeth'\n",
    "\n",
    "puts \"Hello, #{name}!\""
   ]
  },
  {
   "attachments": {},
   "cell_type": "markdown",
   "metadata": {},
   "source": [
    "## Combining Names"
   ]
  },
  {
   "cell_type": "code",
   "execution_count": 143,
   "metadata": {},
   "outputs": [
    {
     "name": "stdout",
     "output_type": "stream",
     "text": [
      "John Doe\n"
     ]
    }
   ],
   "source": [
    "first_name = 'John'\n",
    "last_name = 'Doe'\n",
    "\n",
    "full_name = first_name + \" \" + last_name\n",
    "puts full_name"
   ]
  },
  {
   "attachments": {},
   "cell_type": "markdown",
   "metadata": {},
   "source": [
    "## Tricky Formatting"
   ]
  },
  {
   "cell_type": "code",
   "execution_count": 144,
   "metadata": {},
   "outputs": [
    {
     "name": "stdout",
     "output_type": "stream",
     "text": [
      "Texas\n"
     ]
    }
   ],
   "source": [
    "state = 'tExAs'\n",
    "\n",
    "state.capitalize!\n",
    "puts state"
   ]
  },
  {
   "attachments": {},
   "cell_type": "markdown",
   "metadata": {},
   "source": [
    "## Goodbye, Not Hello"
   ]
  },
  {
   "cell_type": "code",
   "execution_count": 147,
   "metadata": {},
   "outputs": [
    {
     "name": "stdout",
     "output_type": "stream",
     "text": [
      "HeGoodbyeGoodbyeo!\n"
     ]
    }
   ],
   "source": [
    "greeting = 'Hello!'\n",
    "\n",
    "greeting.gsub!('Hello', 'Goodbye')\n",
    "puts greeting"
   ]
  },
  {
   "attachments": {},
   "cell_type": "markdown",
   "metadata": {},
   "source": [
    "## Print the Alphabet"
   ]
  },
  {
   "cell_type": "code",
   "execution_count": 152,
   "metadata": {},
   "outputs": [
    {
     "name": "stdout",
     "output_type": "stream",
     "text": [
      "a\n",
      "b\n",
      "c\n",
      "d\n",
      "e\n",
      "f\n",
      "g\n",
      "h\n",
      "i\n",
      "j\n",
      "k\n",
      "l\n",
      "m\n",
      "n\n",
      "o\n",
      "p\n",
      "q\n",
      "r\n",
      "s\n",
      "t\n",
      "u\n",
      "v\n",
      "w\n",
      "x\n",
      "y\n",
      "z\n"
     ]
    }
   ],
   "source": [
    "alphabet = 'abcdefghijklmnopqrstuvwxyz'\n",
    "\n",
    "puts alphabet.split('')\n"
   ]
  },
  {
   "attachments": {},
   "cell_type": "markdown",
   "metadata": {},
   "source": [
    "## Pluralize"
   ]
  },
  {
   "cell_type": "code",
   "execution_count": 156,
   "metadata": {},
   "outputs": [
    {
     "name": "stdout",
     "output_type": "stream",
     "text": [
      "cars\n",
      "humans\n",
      "elephants\n",
      "airplanes\n"
     ]
    },
    {
     "data": {
      "text/plain": [
       "[\"car\", \"human\", \"elephant\", \"airplane\"]"
      ]
     },
     "execution_count": 156,
     "metadata": {},
     "output_type": "execute_result"
    }
   ],
   "source": [
    "words = 'car human elephant airplane'\n",
    "\n",
    "words.split(' ').each { |word| puts word + 's' }"
   ]
  },
  {
   "attachments": {},
   "cell_type": "markdown",
   "metadata": {},
   "source": [
    "## Are You There?"
   ]
  },
  {
   "cell_type": "code",
   "execution_count": 157,
   "metadata": {},
   "outputs": [
    {
     "name": "stdout",
     "output_type": "stream",
     "text": [
      "true\n",
      "false\n"
     ]
    }
   ],
   "source": [
    "colors = 'blue pink yellow orange'\n",
    "\n",
    "puts colors.include?('yellow')\n",
    "puts colors.include?('purple')"
   ]
  },
  {
   "cell_type": "code",
   "execution_count": 158,
   "metadata": {},
   "outputs": [
    {
     "name": "stdout",
     "output_type": "stream",
     "text": [
      "true\n"
     ]
    }
   ],
   "source": [
    "colors = 'blue boredom yellow'\n",
    "\n",
    "puts colors.include?('red')"
   ]
  },
  {
   "attachments": {},
   "cell_type": "markdown",
   "metadata": {},
   "source": [
    "# Arrays"
   ]
  },
  {
   "attachments": {},
   "cell_type": "markdown",
   "metadata": {},
   "source": [
    "## New Pet"
   ]
  },
  {
   "cell_type": "code",
   "execution_count": 159,
   "metadata": {},
   "outputs": [
    {
     "name": "stdout",
     "output_type": "stream",
     "text": [
      "I have a pet fish!\n"
     ]
    }
   ],
   "source": [
    "pets = ['cat', 'dog', 'fish', 'lizard']\n",
    "\n",
    "my_pet = pets[2]\n",
    "puts \"I have a pet #{my_pet}!\""
   ]
  },
  {
   "attachments": {},
   "cell_type": "markdown",
   "metadata": {},
   "source": [
    "## More Than One"
   ]
  },
  {
   "cell_type": "code",
   "execution_count": 162,
   "metadata": {},
   "outputs": [
    {
     "name": "stdout",
     "output_type": "stream",
     "text": [
      "I have a pet fish and a pet lizard!\n"
     ]
    }
   ],
   "source": [
    "pets = ['cat', 'dog', 'fish', 'lizard']\n",
    "\n",
    "my_pets = pets[2..3]\n",
    "puts \"I have a pet #{my_pets[0]} and a pet #{my_pets[1]}!\""
   ]
  },
  {
   "attachments": {},
   "cell_type": "markdown",
   "metadata": {},
   "source": [
    "## Free The Lizard"
   ]
  },
  {
   "cell_type": "code",
   "execution_count": 165,
   "metadata": {},
   "outputs": [
    {
     "name": "stdout",
     "output_type": "stream",
     "text": [
      "I have a pet fish!\n"
     ]
    }
   ],
   "source": [
    "pets = ['cat', 'dog', 'fish', 'lizard']\n",
    "\n",
    "my_pets = pets[2..3]\n",
    "my_pets = my_pets[0] # OR: my_pets.pop\n",
    "puts \"I have a pet #{my_pets}!\""
   ]
  },
  {
   "attachments": {},
   "cell_type": "markdown",
   "metadata": {},
   "source": [
    "## One Isn't Enough"
   ]
  },
  {
   "cell_type": "code",
   "execution_count": 167,
   "metadata": {},
   "outputs": [
    {
     "name": "stdout",
     "output_type": "stream",
     "text": [
      "fish\n",
      "dog\n",
      "fish\n",
      "dog\n"
     ]
    }
   ],
   "source": [
    "pets = ['cat', 'dog', 'fish', 'lizard']\n",
    "my_pets = pets[2..3]\n",
    "my_pets.pop\n",
    "\n",
    "my_pets.push(pets[1])\n",
    "puts my_pets"
   ]
  },
  {
   "attachments": {},
   "cell_type": "markdown",
   "metadata": {},
   "source": [
    "## What Color Are You?"
   ]
  },
  {
   "cell_type": "code",
   "execution_count": 168,
   "metadata": {},
   "outputs": [
    {
     "name": "stdout",
     "output_type": "stream",
     "text": [
      "I'm the color red!\n",
      "I'm the color yellow!\n",
      "I'm the color purple!\n",
      "I'm the color green!\n"
     ]
    },
    {
     "data": {
      "text/plain": [
       "[\"red\", \"yellow\", \"purple\", \"green\"]"
      ]
     },
     "execution_count": 168,
     "metadata": {},
     "output_type": "execute_result"
    }
   ],
   "source": [
    "colors = ['red', 'yellow', 'purple', 'green']\n",
    "\n",
    "colors.each { |color| puts \"I'm the color #{color}!\"}"
   ]
  },
  {
   "attachments": {},
   "cell_type": "markdown",
   "metadata": {},
   "source": [
    "## Doubled"
   ]
  },
  {
   "cell_type": "code",
   "execution_count": 171,
   "metadata": {},
   "outputs": [
    {
     "name": "stdout",
     "output_type": "stream",
     "text": [
      "[2, 4, 6, 8, 10]\n"
     ]
    },
    {
     "data": {
      "text/plain": [
       "[2, 4, 6, 8, 10]"
      ]
     },
     "execution_count": 171,
     "metadata": {},
     "output_type": "execute_result"
    }
   ],
   "source": [
    "numbers = [1, 2, 3, 4, 5]\n",
    "\n",
    "doubled_numbers = numbers.map { |num| num * 2 }\n",
    "p doubled_numbers"
   ]
  },
  {
   "attachments": {},
   "cell_type": "markdown",
   "metadata": {},
   "source": [
    "## Divisible By Three"
   ]
  },
  {
   "cell_type": "code",
   "execution_count": 172,
   "metadata": {},
   "outputs": [
    {
     "name": "stdout",
     "output_type": "stream",
     "text": [
      "[9, 21, 39]\n"
     ]
    },
    {
     "data": {
      "text/plain": [
       "[9, 21, 39]"
      ]
     },
     "execution_count": 172,
     "metadata": {},
     "output_type": "execute_result"
    }
   ],
   "source": [
    "numbers = [5, 9, 21, 26, 39]\n",
    "\n",
    "divisible_by_three = numbers.select do |num|\n",
    "                      num % 3 == 0\n",
    "                     end\n",
    "\n",
    "p divisible_by_three"
   ]
  },
  {
   "attachments": {},
   "cell_type": "markdown",
   "metadata": {},
   "source": [
    "## Favorite Number 1"
   ]
  },
  {
   "cell_type": "code",
   "execution_count": null,
   "metadata": {},
   "outputs": [],
   "source": [
    "[['Dave', 7], ['Miranda', 3], ['Jason', 11]]"
   ]
  },
  {
   "attachments": {},
   "cell_type": "markdown",
   "metadata": {},
   "source": [
    "## Favorite Number 2"
   ]
  },
  {
   "cell_type": "code",
   "execution_count": 175,
   "metadata": {},
   "outputs": [
    {
     "name": "stdout",
     "output_type": "stream",
     "text": [
      "[\"Dave\", 7, \"Miranda\", 3, \"Jason\", 11]\n"
     ]
    },
    {
     "data": {
      "text/plain": [
       "[\"Dave\", 7, \"Miranda\", 3, \"Jason\", 11]"
      ]
     },
     "execution_count": 175,
     "metadata": {},
     "output_type": "execute_result"
    }
   ],
   "source": [
    "favorites = [['Dave', 7], ['Miranda', 3], ['Jason', 11]]\n",
    "\n",
    "favorites.flatten!\n",
    "p favorites"
   ]
  },
  {
   "attachments": {},
   "cell_type": "markdown",
   "metadata": {},
   "source": [
    "## Are We The Same?"
   ]
  },
  {
   "cell_type": "code",
   "execution_count": 176,
   "metadata": {},
   "outputs": [
    {
     "name": "stdout",
     "output_type": "stream",
     "text": [
      "false\n"
     ]
    }
   ],
   "source": [
    "array1 = [1, 5, 9]\n",
    "array2 = [1, 9, 5]\n",
    "\n",
    "puts array1 == array2"
   ]
  },
  {
   "attachments": {},
   "cell_type": "markdown",
   "metadata": {},
   "source": [
    "# Hashes"
   ]
  },
  {
   "attachments": {},
   "cell_type": "markdown",
   "metadata": {},
   "source": [
    "## First Car"
   ]
  },
  {
   "cell_type": "code",
   "execution_count": null,
   "metadata": {},
   "outputs": [],
   "source": [
    "car = {\n",
    "  type: 'sedan',\n",
    "  color: 'blue',\n",
    "  mileage: 80_000\n",
    "}"
   ]
  },
  {
   "attachments": {},
   "cell_type": "markdown",
   "metadata": {},
   "source": [
    "## Adding the Year"
   ]
  },
  {
   "cell_type": "code",
   "execution_count": 177,
   "metadata": {},
   "outputs": [
    {
     "data": {
      "text/plain": [
       "2003"
      ]
     },
     "execution_count": 177,
     "metadata": {},
     "output_type": "execute_result"
    }
   ],
   "source": [
    "car = {\n",
    "  type:    'sedan',\n",
    "  color:   'blue',\n",
    "  mileage: 80_000\n",
    "}\n",
    "\n",
    "car[:year] = 2003"
   ]
  },
  {
   "attachments": {},
   "cell_type": "markdown",
   "metadata": {},
   "source": [
    "## Broken Odometer"
   ]
  },
  {
   "cell_type": "code",
   "execution_count": 179,
   "metadata": {},
   "outputs": [
    {
     "name": "stdout",
     "output_type": "stream",
     "text": [
      "{:type=>\"sedan\", :color=>\"blue\", :year=>2003}\n"
     ]
    }
   ],
   "source": [
    "car = {\n",
    "  type:    'sedan',\n",
    "  color:   'blue',\n",
    "  mileage: 80_000,\n",
    "  year:    2003\n",
    "}\n",
    "car.delete(:mileage)\n",
    "\n",
    "puts car"
   ]
  },
  {
   "attachments": {},
   "cell_type": "markdown",
   "metadata": {},
   "source": [
    "## What Color?"
   ]
  },
  {
   "cell_type": "code",
   "execution_count": 180,
   "metadata": {},
   "outputs": [
    {
     "name": "stdout",
     "output_type": "stream",
     "text": [
      "blue\n"
     ]
    }
   ],
   "source": [
    "car = {\n",
    "  type:    'sedan',\n",
    "  color:   'blue',\n",
    "  year:    2003\n",
    "}\n",
    "\n",
    "puts car[:color]"
   ]
  },
  {
   "attachments": {},
   "cell_type": "markdown",
   "metadata": {},
   "source": [
    "## Labeled Numbers"
   ]
  },
  {
   "cell_type": "code",
   "execution_count": 181,
   "metadata": {},
   "outputs": [
    {
     "name": "stdout",
     "output_type": "stream",
     "text": [
      "high, 100\n",
      "medium, 50\n",
      "low, 10\n"
     ]
    },
    {
     "data": {
      "text/plain": [
       "{:high=>100, :medium=>50, :low=>10}"
      ]
     },
     "execution_count": 181,
     "metadata": {},
     "output_type": "execute_result"
    }
   ],
   "source": [
    "numbers = {\n",
    "  high:   100,\n",
    "  medium: 50,\n",
    "  low:    10\n",
    "}\n",
    "\n",
    "numbers.each do |k, v|\n",
    "  puts \"#{k}, #{v}\"\n",
    "end"
   ]
  },
  {
   "attachments": {},
   "cell_type": "markdown",
   "metadata": {},
   "source": [
    "## Divided By Two"
   ]
  },
  {
   "cell_type": "code",
   "execution_count": 183,
   "metadata": {},
   "outputs": [
    {
     "name": "stdout",
     "output_type": "stream",
     "text": [
      "[50, 25, 5]\n"
     ]
    },
    {
     "data": {
      "text/plain": [
       "[50, 25, 5]"
      ]
     },
     "execution_count": 183,
     "metadata": {},
     "output_type": "execute_result"
    }
   ],
   "source": [
    "numbers = {\n",
    "  high:   100,\n",
    "  medium: 50,\n",
    "  low:    10\n",
    "}\n",
    "\n",
    "half_numbers = numbers.map do |k, v|\n",
    "  v / 2\n",
    "end\n",
    "\n",
    "p half_numbers"
   ]
  },
  {
   "attachments": {},
   "cell_type": "markdown",
   "metadata": {},
   "source": [
    "## Low Medium High"
   ]
  },
  {
   "cell_type": "code",
   "execution_count": 185,
   "metadata": {},
   "outputs": [
    {
     "name": "stdout",
     "output_type": "stream",
     "text": [
      "{:y=>24.99, :z=>24, :low=>10}\n"
     ]
    },
    {
     "data": {
      "text/plain": [
       "{:y=>24.99, :z=>24, :low=>10}"
      ]
     },
     "execution_count": 185,
     "metadata": {},
     "output_type": "execute_result"
    }
   ],
   "source": [
    "numbers = {\n",
    "  high:   100,\n",
    "  medium: 50,\n",
    "  x: 25,\n",
    "  y: 24.99,\n",
    "  z: 24,\n",
    "  low:    10\n",
    "}\n",
    "\n",
    "low_numbers = numbers.select do |k, v|\n",
    "  v < 25\n",
    "end\n",
    "\n",
    "p low_numbers"
   ]
  },
  {
   "attachments": {},
   "cell_type": "markdown",
   "metadata": {},
   "source": [
    "## Low Or Nothing"
   ]
  },
  {
   "cell_type": "code",
   "execution_count": 186,
   "metadata": {},
   "outputs": [
    {
     "name": "stdout",
     "output_type": "stream",
     "text": [
      "{:low=>10}\n"
     ]
    },
    {
     "data": {
      "text/plain": [
       "{:low=>10}"
      ]
     },
     "execution_count": 186,
     "metadata": {},
     "output_type": "execute_result"
    }
   ],
   "source": [
    "numbers = {\n",
    "  high:   100,\n",
    "  medium: 50,\n",
    "  low:    10\n",
    "}\n",
    "\n",
    "numbers.select! do |key, value|\n",
    "  value < 25\n",
    "end\n",
    "\n",
    "p numbers"
   ]
  },
  {
   "attachments": {},
   "cell_type": "markdown",
   "metadata": {},
   "source": [
    "## Multiple Cars"
   ]
  },
  {
   "cell_type": "code",
   "execution_count": 188,
   "metadata": {},
   "outputs": [
    {
     "data": {
      "text/plain": [
       "{:car=>{:type=>\"sedan\", :color=>\"blue\", :year=>2003}, :truck=>{:type=>\"pickup\", :color=>\"red\", :year=>1998}}"
      ]
     },
     "execution_count": 188,
     "metadata": {},
     "output_type": "execute_result"
    }
   ],
   "source": [
    "vehicles = {\n",
    "  car: {\n",
    "    type: 'sedan',\n",
    "    color: 'blue',\n",
    "    year: 2003\n",
    "  },\n",
    "  truck: {\n",
    "    type: 'pickup',\n",
    "    color: 'red',\n",
    "    year: 1998\n",
    "  }\n",
    "}"
   ]
  },
  {
   "attachments": {},
   "cell_type": "markdown",
   "metadata": {},
   "source": [
    "## Which Collection?"
   ]
  },
  {
   "cell_type": "code",
   "execution_count": 189,
   "metadata": {},
   "outputs": [
    {
     "data": {
      "text/plain": [
       "[[:type, \"sedan\"], [:color, \"blue\"], [:year, 2003]]"
      ]
     },
     "execution_count": 189,
     "metadata": {},
     "output_type": "execute_result"
    }
   ],
   "source": [
    "car = {\n",
    "  type:  'sedan',\n",
    "  color: 'blue',\n",
    "  year:  2003\n",
    "}\n",
    "\n",
    "car_as_array = [[:type, 'sedan'], [:color, 'blue'], [:year, 2003]]"
   ]
  },
  {
   "attachments": {},
   "cell_type": "markdown",
   "metadata": {},
   "source": [
    "# Debugging"
   ]
  },
  {
   "attachments": {},
   "cell_type": "markdown",
   "metadata": {},
   "source": [
    "## Weather Forecast"
   ]
  },
  {
   "cell_type": "code",
   "execution_count": 200,
   "metadata": {},
   "outputs": [
    {
     "name": "stdout",
     "output_type": "stream",
     "text": [
      "Today's weather will be cloudy!\n"
     ]
    }
   ],
   "source": [
    "def predict_weather\n",
    "  sunshine = [true, false].sample\n",
    "\n",
    "  if sunshine\n",
    "    puts \"Today's weather will be sunny!\"\n",
    "  else\n",
    "    puts \"Today's weather will be cloudy!\"\n",
    "  end\n",
    "end\n",
    "\n",
    "predict_weather"
   ]
  },
  {
   "attachments": {},
   "cell_type": "markdown",
   "metadata": {},
   "source": [
    "## Pets"
   ]
  },
  {
   "cell_type": "code",
   "execution_count": 202,
   "metadata": {},
   "outputs": [
    {
     "name": "stdout",
     "output_type": "stream",
     "text": [
      "{:cat=>\"fluffy\", :dog=>[\"sparky\", \"fido\", \"bowser\"], :fish=>\"oscar\"}\n"
     ]
    },
    {
     "data": {
      "text/plain": [
       "{:cat=>\"fluffy\", :dog=>[\"sparky\", \"fido\", \"bowser\"], :fish=>\"oscar\"}"
      ]
     },
     "execution_count": 202,
     "metadata": {},
     "output_type": "execute_result"
    }
   ],
   "source": [
    "pets = { cat: 'fluffy', dog: ['sparky', 'fido'], fish: 'oscar' }\n",
    "\n",
    "pets[:dog] << 'bowser'\n",
    "\n",
    "p pets #=> {:cat=>\"fluffy\", :dog=>\"bowser\", :fish=>\"oscar\"}"
   ]
  },
  {
   "attachments": {},
   "cell_type": "markdown",
   "metadata": {},
   "source": [
    "## Even Numbers"
   ]
  },
  {
   "cell_type": "code",
   "execution_count": 204,
   "metadata": {},
   "outputs": [
    {
     "name": "stdout",
     "output_type": "stream",
     "text": [
      "[2, 6, 8]\n"
     ]
    },
    {
     "data": {
      "text/plain": [
       "[2, 6, 8]"
      ]
     },
     "execution_count": 204,
     "metadata": {},
     "output_type": "execute_result"
    }
   ],
   "source": [
    "numbers = [5, 2, 9, 6, 3, 1, 8]\n",
    "\n",
    "even_numbers = numbers.select do |n|\n",
    "  n.even?\n",
    "end\n",
    "\n",
    "p even_numbers # expected output: [2, 6, 8]"
   ]
  },
  {
   "attachments": {},
   "cell_type": "markdown",
   "metadata": {},
   "source": [
    "## Confucius"
   ]
  },
  {
   "cell_type": "code",
   "execution_count": 206,
   "metadata": {},
   "outputs": [
    {
     "name": "stdout",
     "output_type": "stream",
     "text": [
      "Confucius says:\n",
      "\"I hear and I forget. I see and I remember. I do and I understand.\"\n"
     ]
    }
   ],
   "source": [
    "def get_quote(person)\n",
    "  if person == 'Yoda'\n",
    "    return 'Do. Or do not. There is no try.'\n",
    "  end\n",
    "\n",
    "  if person == 'Confucius'\n",
    "    return 'I hear and I forget. I see and I remember. I do and I understand.'\n",
    "  end\n",
    "\n",
    "  if person == 'Einstein'\n",
    "    return 'Do not worry about your difficulties in Mathematics. I can assure you mine are still greater.'\n",
    "  end\n",
    "end\n",
    "\n",
    "puts 'Confucius says:'\n",
    "puts '\"' + get_quote('Confucius') + '\"'"
   ]
  },
  {
   "attachments": {},
   "cell_type": "markdown",
   "metadata": {},
   "source": [
    "## Account Balance"
   ]
  },
  {
   "cell_type": "code",
   "execution_count": 208,
   "metadata": {},
   "outputs": [
    {
     "name": "stdout",
     "output_type": "stream",
     "text": [
      "238.29999999999995\n"
     ]
    }
   ],
   "source": [
    "# Financially, you started the year with a clean slate.\n",
    "\n",
    "balance = 0\n",
    "\n",
    "# Here's what you earned and spent during the first three months.\n",
    "\n",
    "january = {\n",
    "  income: [ 1200, 75 ],\n",
    "  expenses: [ 650, 140, 33.2, 100, 26.9, 78 ]\n",
    "}\n",
    "\n",
    "february = {\n",
    "  income: [ 1200 ],\n",
    "  expenses: [ 650, 140, 320, 46.7, 122.5 ]\n",
    "}\n",
    "\n",
    "march = {\n",
    "  income: [ 1200, 10, 75 ],\n",
    "  expenses: [ 650, 140, 350, 12, 59.9, 2.5 ]\n",
    "}\n",
    "\n",
    "# Let's see how much you've got now...\n",
    "\n",
    "def calculate_balance(month)\n",
    "  plus  = month[:income].sum\n",
    "  minus = month[:expenses].sum\n",
    "\n",
    "  plus - minus\n",
    "end\n",
    "\n",
    "[january, february, march].each do |month|\n",
    "  balance += calculate_balance(month)\n",
    "end\n",
    "\n",
    "puts balance"
   ]
  },
  {
   "attachments": {},
   "cell_type": "markdown",
   "metadata": {},
   "source": [
    "## Colorful Things"
   ]
  },
  {
   "cell_type": "code",
   "execution_count": 214,
   "metadata": {},
   "outputs": [
    {
     "name": "stdout",
     "output_type": "stream",
     "text": [
      "I have a yellow lizard.\n",
      "And a turquoise coffee mug.\n",
      "And a black sofa.\n",
      "And a green training mat.\n",
      "And a dark blue surf board.\n",
      "And a silver notebook.\n",
      "And a red pen.\n",
      "And a purple mouse pad.\n"
     ]
    }
   ],
   "source": [
    "colors = ['red', 'yellow', 'purple', 'green', 'dark blue', 'turquoise', 'silver', 'black']\n",
    "things = ['pen', 'mouse pad', 'coffee mug', 'sofa', 'surf board', 'training mat', 'notebook','lizard']\n",
    "\n",
    "colors.shuffle!\n",
    "things.shuffle!\n",
    "\n",
    "i = 0\n",
    "loop do\n",
    "  break if i == colors.length\n",
    "\n",
    "  if i == 0\n",
    "    puts 'I have a ' + colors[i] + ' ' + things[i] + '.'\n",
    "  else\n",
    "    puts 'And a ' + colors[i] + ' ' + things[i] + '.'\n",
    "  end\n",
    "\n",
    "  i += 1\n",
    "end"
   ]
  },
  {
   "attachments": {},
   "cell_type": "markdown",
   "metadata": {},
   "source": [
    "## Digit Product"
   ]
  },
  {
   "cell_type": "code",
   "execution_count": 216,
   "metadata": {},
   "outputs": [
    {
     "name": "stdout",
     "output_type": "stream",
     "text": [
      "120\n"
     ]
    },
    {
     "data": {
      "text/plain": [
       "120"
      ]
     },
     "execution_count": 216,
     "metadata": {},
     "output_type": "execute_result"
    }
   ],
   "source": [
    "def digit_product(str_num)\n",
    "  digits = str_num.chars.map { |n| n.to_i }\n",
    "  product = 1\n",
    "\n",
    "  digits.each do |digit|\n",
    "    product *= digit\n",
    "  end\n",
    "\n",
    "  product\n",
    "end\n",
    "\n",
    "\n",
    "p digit_product('12345')\n",
    "# expected return value: 120\n",
    "# actual return value: 0"
   ]
  },
  {
   "attachments": {},
   "cell_type": "markdown",
   "metadata": {},
   "source": [
    "## Warriors and Wizards"
   ]
  },
  {
   "cell_type": "code",
   "execution_count": 221,
   "metadata": {},
   "outputs": [
    {
     "name": "stdout",
     "output_type": "stream",
     "text": [
      "Please type your class (warrior, thief, scout, mage):\n",
      "Your character stats:\n",
      "{:strength=>20, :dexterity=>10, :charisma=>10, :stamina=>10}\n"
     ]
    }
   ],
   "source": [
    "# Each player starts with the same basic stats.\n",
    "\n",
    "player = { strength: 10, dexterity: 10, charisma: 10, stamina: 10 }\n",
    "\n",
    "# Then the player picks a character class and gets an upgrade accordingly.\n",
    "\n",
    "character_classes = {\n",
    "  warrior: { strength:  20 },\n",
    "  thief:   { dexterity: 20 },\n",
    "  scout:   { stamina:   20 },\n",
    "  mage:    { charisma:  20 }\n",
    "}\n",
    "\n",
    "puts 'Please type your class (warrior, thief, scout, mage):'\n",
    "# input = gets.chomp.downcase\n",
    "# changed to work in Jupyter\n",
    "input = 'warrior'\n",
    "\n",
    "player.merge!(character_classes[input.to_sym])\n",
    "\n",
    "puts 'Your character stats:'\n",
    "puts player"
   ]
  }
 ],
 "metadata": {
  "kernelspec": {
   "display_name": "Ruby 3.1.2",
   "language": "ruby",
   "name": "ruby"
  },
  "language_info": {
   "file_extension": ".rb",
   "mimetype": "application/x-ruby",
   "name": "ruby",
   "version": "3.1.2"
  },
  "orig_nbformat": 4,
  "vscode": {
   "interpreter": {
    "hash": "5c7b89af1651d0b8571dde13640ecdccf7d5a6204171d6ab33e7c296e100e08a"
   }
  }
 },
 "nbformat": 4,
 "nbformat_minor": 2
}
